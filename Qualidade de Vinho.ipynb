{
 "cells": [
  {
   "cell_type": "markdown",
   "id": "3823e91e",
   "metadata": {},
   "source": [
    "# Trainee IEEE - segundo período"
   ]
  },
  {
   "cell_type": "markdown",
   "id": "cb02c158",
   "metadata": {},
   "source": [
    "## Importação de bibliotecas e de Dataset"
   ]
  },
  {
   "cell_type": "code",
   "execution_count": 1,
   "id": "3498d538",
   "metadata": {},
   "outputs": [],
   "source": [
    "import pandas as pd\n",
    "import numpy as np\n",
    "import matplotlib.pyplot as plt\n",
    "from sklearn.metrics import classification_report\n",
    "from sklearn.metrics import confusion_matrix\n",
    "from sklearn.metrics import accuracy_score\n",
    "from sklearn.neighbors import KNeighborsClassifier\n",
    "from sklearn.model_selection import train_test_split"
   ]
  },
  {
   "cell_type": "code",
   "execution_count": 2,
   "id": "6a296da8",
   "metadata": {},
   "outputs": [],
   "source": [
    "dataset_original = pd.read_csv(r'C:\\Users\\rapha\\OneDrive\\Documentos\\Programação + Cursos\\IEEE\\winequality.csv', index_col = 0)"
   ]
  },
  {
   "cell_type": "markdown",
   "id": "4c309462",
   "metadata": {},
   "source": [
    "## Análise exploratória"
   ]
  },
  {
   "cell_type": "code",
   "execution_count": 3,
   "id": "336bed9e",
   "metadata": {},
   "outputs": [
    {
     "data": {
      "text/html": [
       "<div>\n",
       "<style scoped>\n",
       "    .dataframe tbody tr th:only-of-type {\n",
       "        vertical-align: middle;\n",
       "    }\n",
       "\n",
       "    .dataframe tbody tr th {\n",
       "        vertical-align: top;\n",
       "    }\n",
       "\n",
       "    .dataframe thead th {\n",
       "        text-align: right;\n",
       "    }\n",
       "</style>\n",
       "<table border=\"1\" class=\"dataframe\">\n",
       "  <thead>\n",
       "    <tr style=\"text-align: right;\">\n",
       "      <th></th>\n",
       "      <th>fixed acidity</th>\n",
       "      <th>volatile acidity</th>\n",
       "      <th>citric acid</th>\n",
       "      <th>residual sugar</th>\n",
       "      <th>chlorides</th>\n",
       "      <th>free sulfur dioxide</th>\n",
       "      <th>total sulfur dioxide</th>\n",
       "      <th>density</th>\n",
       "      <th>pH</th>\n",
       "      <th>sulphates</th>\n",
       "      <th>alcohol</th>\n",
       "      <th>quality</th>\n",
       "      <th>wine_is_red</th>\n",
       "    </tr>\n",
       "  </thead>\n",
       "  <tbody>\n",
       "    <tr>\n",
       "      <th>0</th>\n",
       "      <td>5.9</td>\n",
       "      <td>0.61</td>\n",
       "      <td>0.08</td>\n",
       "      <td>2.1</td>\n",
       "      <td>0.071</td>\n",
       "      <td>16.0</td>\n",
       "      <td>24.0</td>\n",
       "      <td>0.99376</td>\n",
       "      <td>3.56</td>\n",
       "      <td>0.77</td>\n",
       "      <td>11.1</td>\n",
       "      <td>6</td>\n",
       "      <td>1</td>\n",
       "    </tr>\n",
       "    <tr>\n",
       "      <th>1</th>\n",
       "      <td>8.2</td>\n",
       "      <td>1.00</td>\n",
       "      <td>0.09</td>\n",
       "      <td>2.3</td>\n",
       "      <td>0.065</td>\n",
       "      <td>7.0</td>\n",
       "      <td>37.0</td>\n",
       "      <td>0.99685</td>\n",
       "      <td>3.32</td>\n",
       "      <td>0.55</td>\n",
       "      <td>9.0</td>\n",
       "      <td>6</td>\n",
       "      <td>1</td>\n",
       "    </tr>\n",
       "    <tr>\n",
       "      <th>2</th>\n",
       "      <td>6.4</td>\n",
       "      <td>0.24</td>\n",
       "      <td>0.49</td>\n",
       "      <td>5.8</td>\n",
       "      <td>0.053</td>\n",
       "      <td>25.0</td>\n",
       "      <td>120.0</td>\n",
       "      <td>0.99420</td>\n",
       "      <td>3.01</td>\n",
       "      <td>0.98</td>\n",
       "      <td>10.5</td>\n",
       "      <td>6</td>\n",
       "      <td>0</td>\n",
       "    </tr>\n",
       "    <tr>\n",
       "      <th>3</th>\n",
       "      <td>6.6</td>\n",
       "      <td>0.23</td>\n",
       "      <td>0.26</td>\n",
       "      <td>1.3</td>\n",
       "      <td>0.045</td>\n",
       "      <td>16.0</td>\n",
       "      <td>128.0</td>\n",
       "      <td>0.99340</td>\n",
       "      <td>3.36</td>\n",
       "      <td>0.60</td>\n",
       "      <td>10.0</td>\n",
       "      <td>6</td>\n",
       "      <td>0</td>\n",
       "    </tr>\n",
       "    <tr>\n",
       "      <th>4</th>\n",
       "      <td>7.2</td>\n",
       "      <td>0.24</td>\n",
       "      <td>0.29</td>\n",
       "      <td>3.0</td>\n",
       "      <td>0.036</td>\n",
       "      <td>17.0</td>\n",
       "      <td>117.0</td>\n",
       "      <td>0.99411</td>\n",
       "      <td>3.36</td>\n",
       "      <td>0.68</td>\n",
       "      <td>10.1</td>\n",
       "      <td>6</td>\n",
       "      <td>0</td>\n",
       "    </tr>\n",
       "  </tbody>\n",
       "</table>\n",
       "</div>"
      ],
      "text/plain": [
       "   fixed acidity  volatile acidity  citric acid  residual sugar  chlorides  \\\n",
       "0            5.9              0.61         0.08             2.1      0.071   \n",
       "1            8.2              1.00         0.09             2.3      0.065   \n",
       "2            6.4              0.24         0.49             5.8      0.053   \n",
       "3            6.6              0.23         0.26             1.3      0.045   \n",
       "4            7.2              0.24         0.29             3.0      0.036   \n",
       "\n",
       "   free sulfur dioxide  total sulfur dioxide  density    pH  sulphates  \\\n",
       "0                 16.0                  24.0  0.99376  3.56       0.77   \n",
       "1                  7.0                  37.0  0.99685  3.32       0.55   \n",
       "2                 25.0                 120.0  0.99420  3.01       0.98   \n",
       "3                 16.0                 128.0  0.99340  3.36       0.60   \n",
       "4                 17.0                 117.0  0.99411  3.36       0.68   \n",
       "\n",
       "   alcohol  quality  wine_is_red  \n",
       "0     11.1        6            1  \n",
       "1      9.0        6            1  \n",
       "2     10.5        6            0  \n",
       "3     10.0        6            0  \n",
       "4     10.1        6            0  "
      ]
     },
     "execution_count": 3,
     "metadata": {},
     "output_type": "execute_result"
    }
   ],
   "source": [
    "dataset_original.head()"
   ]
  },
  {
   "cell_type": "code",
   "execution_count": 4,
   "id": "e0f73416",
   "metadata": {},
   "outputs": [
    {
     "data": {
      "text/plain": [
       "(6497, 13)"
      ]
     },
     "execution_count": 4,
     "metadata": {},
     "output_type": "execute_result"
    }
   ],
   "source": [
    "# Quantidade de linhas e colunas no dataset\n",
    "dataset_original.shape"
   ]
  },
  {
   "cell_type": "code",
   "execution_count": 5,
   "id": "7ab4623b",
   "metadata": {
    "scrolled": true
   },
   "outputs": [
    {
     "data": {
      "text/html": [
       "<div>\n",
       "<style scoped>\n",
       "    .dataframe tbody tr th:only-of-type {\n",
       "        vertical-align: middle;\n",
       "    }\n",
       "\n",
       "    .dataframe tbody tr th {\n",
       "        vertical-align: top;\n",
       "    }\n",
       "\n",
       "    .dataframe thead th {\n",
       "        text-align: right;\n",
       "    }\n",
       "</style>\n",
       "<table border=\"1\" class=\"dataframe\">\n",
       "  <thead>\n",
       "    <tr style=\"text-align: right;\">\n",
       "      <th></th>\n",
       "      <th>fixed acidity</th>\n",
       "      <th>volatile acidity</th>\n",
       "      <th>citric acid</th>\n",
       "      <th>residual sugar</th>\n",
       "      <th>chlorides</th>\n",
       "      <th>free sulfur dioxide</th>\n",
       "      <th>total sulfur dioxide</th>\n",
       "      <th>density</th>\n",
       "      <th>pH</th>\n",
       "      <th>sulphates</th>\n",
       "      <th>alcohol</th>\n",
       "      <th>quality</th>\n",
       "      <th>wine_is_red</th>\n",
       "    </tr>\n",
       "  </thead>\n",
       "  <tbody>\n",
       "    <tr>\n",
       "      <th>count</th>\n",
       "      <td>6497.000000</td>\n",
       "      <td>6497.000000</td>\n",
       "      <td>6497.000000</td>\n",
       "      <td>6497.000000</td>\n",
       "      <td>6497.000000</td>\n",
       "      <td>6497.000000</td>\n",
       "      <td>6497.000000</td>\n",
       "      <td>6497.000000</td>\n",
       "      <td>6497.000000</td>\n",
       "      <td>6497.000000</td>\n",
       "      <td>6497.000000</td>\n",
       "      <td>6497.000000</td>\n",
       "      <td>6497.000000</td>\n",
       "    </tr>\n",
       "    <tr>\n",
       "      <th>mean</th>\n",
       "      <td>7.215307</td>\n",
       "      <td>0.339666</td>\n",
       "      <td>0.318633</td>\n",
       "      <td>5.443235</td>\n",
       "      <td>0.056034</td>\n",
       "      <td>30.525319</td>\n",
       "      <td>115.744574</td>\n",
       "      <td>0.994697</td>\n",
       "      <td>3.218501</td>\n",
       "      <td>0.531268</td>\n",
       "      <td>10.491801</td>\n",
       "      <td>5.818378</td>\n",
       "      <td>0.246114</td>\n",
       "    </tr>\n",
       "    <tr>\n",
       "      <th>std</th>\n",
       "      <td>1.296434</td>\n",
       "      <td>0.164636</td>\n",
       "      <td>0.145318</td>\n",
       "      <td>4.757804</td>\n",
       "      <td>0.035034</td>\n",
       "      <td>17.749400</td>\n",
       "      <td>56.521855</td>\n",
       "      <td>0.002999</td>\n",
       "      <td>0.160787</td>\n",
       "      <td>0.148806</td>\n",
       "      <td>1.192712</td>\n",
       "      <td>0.873255</td>\n",
       "      <td>0.430779</td>\n",
       "    </tr>\n",
       "    <tr>\n",
       "      <th>min</th>\n",
       "      <td>3.800000</td>\n",
       "      <td>0.080000</td>\n",
       "      <td>0.000000</td>\n",
       "      <td>0.600000</td>\n",
       "      <td>0.009000</td>\n",
       "      <td>1.000000</td>\n",
       "      <td>6.000000</td>\n",
       "      <td>0.987110</td>\n",
       "      <td>2.720000</td>\n",
       "      <td>0.220000</td>\n",
       "      <td>8.000000</td>\n",
       "      <td>3.000000</td>\n",
       "      <td>0.000000</td>\n",
       "    </tr>\n",
       "    <tr>\n",
       "      <th>25%</th>\n",
       "      <td>6.400000</td>\n",
       "      <td>0.230000</td>\n",
       "      <td>0.250000</td>\n",
       "      <td>1.800000</td>\n",
       "      <td>0.038000</td>\n",
       "      <td>17.000000</td>\n",
       "      <td>77.000000</td>\n",
       "      <td>0.992340</td>\n",
       "      <td>3.110000</td>\n",
       "      <td>0.430000</td>\n",
       "      <td>9.500000</td>\n",
       "      <td>5.000000</td>\n",
       "      <td>0.000000</td>\n",
       "    </tr>\n",
       "    <tr>\n",
       "      <th>50%</th>\n",
       "      <td>7.000000</td>\n",
       "      <td>0.290000</td>\n",
       "      <td>0.310000</td>\n",
       "      <td>3.000000</td>\n",
       "      <td>0.047000</td>\n",
       "      <td>29.000000</td>\n",
       "      <td>118.000000</td>\n",
       "      <td>0.994890</td>\n",
       "      <td>3.210000</td>\n",
       "      <td>0.510000</td>\n",
       "      <td>10.300000</td>\n",
       "      <td>6.000000</td>\n",
       "      <td>0.000000</td>\n",
       "    </tr>\n",
       "    <tr>\n",
       "      <th>75%</th>\n",
       "      <td>7.700000</td>\n",
       "      <td>0.400000</td>\n",
       "      <td>0.390000</td>\n",
       "      <td>8.100000</td>\n",
       "      <td>0.065000</td>\n",
       "      <td>41.000000</td>\n",
       "      <td>156.000000</td>\n",
       "      <td>0.996990</td>\n",
       "      <td>3.320000</td>\n",
       "      <td>0.600000</td>\n",
       "      <td>11.300000</td>\n",
       "      <td>6.000000</td>\n",
       "      <td>0.000000</td>\n",
       "    </tr>\n",
       "    <tr>\n",
       "      <th>max</th>\n",
       "      <td>15.900000</td>\n",
       "      <td>1.580000</td>\n",
       "      <td>1.660000</td>\n",
       "      <td>65.800000</td>\n",
       "      <td>0.611000</td>\n",
       "      <td>289.000000</td>\n",
       "      <td>440.000000</td>\n",
       "      <td>1.038980</td>\n",
       "      <td>4.010000</td>\n",
       "      <td>2.000000</td>\n",
       "      <td>14.900000</td>\n",
       "      <td>9.000000</td>\n",
       "      <td>1.000000</td>\n",
       "    </tr>\n",
       "  </tbody>\n",
       "</table>\n",
       "</div>"
      ],
      "text/plain": [
       "       fixed acidity  volatile acidity  citric acid  residual sugar  \\\n",
       "count    6497.000000       6497.000000  6497.000000     6497.000000   \n",
       "mean        7.215307          0.339666     0.318633        5.443235   \n",
       "std         1.296434          0.164636     0.145318        4.757804   \n",
       "min         3.800000          0.080000     0.000000        0.600000   \n",
       "25%         6.400000          0.230000     0.250000        1.800000   \n",
       "50%         7.000000          0.290000     0.310000        3.000000   \n",
       "75%         7.700000          0.400000     0.390000        8.100000   \n",
       "max        15.900000          1.580000     1.660000       65.800000   \n",
       "\n",
       "         chlorides  free sulfur dioxide  total sulfur dioxide      density  \\\n",
       "count  6497.000000          6497.000000           6497.000000  6497.000000   \n",
       "mean      0.056034            30.525319            115.744574     0.994697   \n",
       "std       0.035034            17.749400             56.521855     0.002999   \n",
       "min       0.009000             1.000000              6.000000     0.987110   \n",
       "25%       0.038000            17.000000             77.000000     0.992340   \n",
       "50%       0.047000            29.000000            118.000000     0.994890   \n",
       "75%       0.065000            41.000000            156.000000     0.996990   \n",
       "max       0.611000           289.000000            440.000000     1.038980   \n",
       "\n",
       "                pH    sulphates      alcohol      quality  wine_is_red  \n",
       "count  6497.000000  6497.000000  6497.000000  6497.000000  6497.000000  \n",
       "mean      3.218501     0.531268    10.491801     5.818378     0.246114  \n",
       "std       0.160787     0.148806     1.192712     0.873255     0.430779  \n",
       "min       2.720000     0.220000     8.000000     3.000000     0.000000  \n",
       "25%       3.110000     0.430000     9.500000     5.000000     0.000000  \n",
       "50%       3.210000     0.510000    10.300000     6.000000     0.000000  \n",
       "75%       3.320000     0.600000    11.300000     6.000000     0.000000  \n",
       "max       4.010000     2.000000    14.900000     9.000000     1.000000  "
      ]
     },
     "execution_count": 5,
     "metadata": {},
     "output_type": "execute_result"
    }
   ],
   "source": [
    "# Infomações gerais no dataset\n",
    "dataset_original.describe()"
   ]
  },
  {
   "cell_type": "code",
   "execution_count": 6,
   "id": "223560c0",
   "metadata": {},
   "outputs": [
    {
     "name": "stdout",
     "output_type": "stream",
     "text": [
      "<class 'pandas.core.frame.DataFrame'>\n",
      "Int64Index: 6497 entries, 0 to 6496\n",
      "Data columns (total 13 columns):\n",
      " #   Column                Non-Null Count  Dtype  \n",
      "---  ------                --------------  -----  \n",
      " 0   fixed acidity         6497 non-null   float64\n",
      " 1   volatile acidity      6497 non-null   float64\n",
      " 2   citric acid           6497 non-null   float64\n",
      " 3   residual sugar        6497 non-null   float64\n",
      " 4   chlorides             6497 non-null   float64\n",
      " 5   free sulfur dioxide   6497 non-null   float64\n",
      " 6   total sulfur dioxide  6497 non-null   float64\n",
      " 7   density               6497 non-null   float64\n",
      " 8   pH                    6497 non-null   float64\n",
      " 9   sulphates             6497 non-null   float64\n",
      " 10  alcohol               6497 non-null   float64\n",
      " 11  quality               6497 non-null   int64  \n",
      " 12  wine_is_red           6497 non-null   int64  \n",
      "dtypes: float64(11), int64(2)\n",
      "memory usage: 710.6 KB\n"
     ]
    }
   ],
   "source": [
    "# Verificação do n° de registros em cada coluna e o tipo dos dados\n",
    "dataset_original.info()"
   ]
  },
  {
   "cell_type": "code",
   "execution_count": 7,
   "id": "6f7cfef2",
   "metadata": {
    "scrolled": false
   },
   "outputs": [
    {
     "data": {
      "text/plain": [
       "fixed acidity           0\n",
       "volatile acidity        0\n",
       "citric acid             0\n",
       "residual sugar          0\n",
       "chlorides               0\n",
       "free sulfur dioxide     0\n",
       "total sulfur dioxide    0\n",
       "density                 0\n",
       "pH                      0\n",
       "sulphates               0\n",
       "alcohol                 0\n",
       "quality                 0\n",
       "wine_is_red             0\n",
       "dtype: int64"
      ]
     },
     "execution_count": 7,
     "metadata": {},
     "output_type": "execute_result"
    }
   ],
   "source": [
    "# Verificação de registros nulos\n",
    "dataset_original.isnull().sum()"
   ]
  },
  {
   "cell_type": "markdown",
   "id": "0391123b",
   "metadata": {},
   "source": [
    "Todo o dataset está com o tipo de dados correto e com todos os valores preenchidos"
   ]
  },
  {
   "cell_type": "code",
   "execution_count": 8,
   "id": "9523d452",
   "metadata": {
    "scrolled": true
   },
   "outputs": [
    {
     "data": {
      "text/plain": [
       "<Axes: xlabel='quality'>"
      ]
     },
     "execution_count": 8,
     "metadata": {},
     "output_type": "execute_result"
    },
    {
     "data": {
      "image/png": "[encoded data removed]",
      "text/plain": [
       "<Figure size 640x480 with 1 Axes>"
      ]
     },
     "metadata": {},
     "output_type": "display_data"
    }
   ],
   "source": [
    "# Verificação da quantia [quality] do dataset \n",
    "dataset_original.groupby(['quality'])['quality'].count().plot(kind = 'bar')"
   ]
  },
  {
   "cell_type": "code",
   "execution_count": 9,
   "id": "effa17f9",
   "metadata": {},
   "outputs": [
    {
     "data": {
      "text/plain": [
       "<Axes: xlabel='wine_is_red'>"
      ]
     },
     "execution_count": 9,
     "metadata": {},
     "output_type": "execute_result"
    },
    {
     "data": {
      "image/png": "[encoded data removed]",
      "text/plain": [
       "<Figure size 640x480 with 1 Axes>"
      ]
     },
     "metadata": {},
     "output_type": "display_data"
    }
   ],
   "source": [
    "# Verificação da quantia [wine_is_red] do dataset \n",
    "dataset_original.groupby(['wine_is_red'])['wine_is_red'].count().plot(kind = 'bar')"
   ]
  },
  {
   "cell_type": "markdown",
   "id": "b147b932",
   "metadata": {},
   "source": [
    "## KNN com apenas Numpy"
   ]
  },
  {
   "cell_type": "code",
   "execution_count": 10,
   "id": "6577ec75",
   "metadata": {},
   "outputs": [],
   "source": [
    "# Conversão do Dataset para formato array\n",
    "NP_data = dataset_original.to_numpy()"
   ]
  },
  {
   "cell_type": "code",
   "execution_count": 11,
   "id": "24fcd56a",
   "metadata": {},
   "outputs": [],
   "source": [
    "# Definição do KNN utilizando apenas numpy\n",
    "class KNearestNeighbors():\n",
    "    def __init__(self, X_train, y_train, n_neighbors=5, weights='uniform'):\n",
    "\n",
    "        self.X_train = X_train\n",
    "        self.y_train = y_train\n",
    "\n",
    "        self.n_neighbors = n_neighbors\n",
    "        self.weights = weights\n",
    "\n",
    "        self.n_classes = 3\n",
    "\n",
    "# Calcula distância euclidiana\n",
    "    def euclidian_distance(self, a, b):\n",
    "        return np.sqrt(np.sum((a - b)**2, axis=1))\n",
    "\n",
    "# 1. Calcula a distância de cada um dos pontos em relação aos outros, \n",
    "# fazendo o registro dessas distâncias em uma tabela (point_dist)\n",
    "# 2. Enumera as linhas (enum_neigh) e ordena elas pelas N distâncias mais próximas (sorted_neigh)\n",
    "# 3. Extrai os índices e as distâncias e as retorna\n",
    "    def kneighbors(self, X_test, return_distance=False):\n",
    "\n",
    "        dist = []\n",
    "        neigh_ind = []\n",
    "\n",
    "        point_dist = [self.euclidian_distance(x_test, self.X_train) for x_test in X_test]\n",
    "\n",
    "        for row in point_dist:\n",
    "            enum_neigh = enumerate(row)\n",
    "            sorted_neigh = sorted(enum_neigh,\n",
    "                                  key=lambda x: x[1])[:self.n_neighbors]\n",
    "\n",
    "            ind_list = [tup[0] for tup in sorted_neigh]\n",
    "            dist_list = [tup[1] for tup in sorted_neigh]\n",
    "\n",
    "            dist.append(dist_list)\n",
    "            neigh_ind.append(ind_list)\n",
    "\n",
    "        if return_distance:\n",
    "            return np.array(dist), np.array(neigh_ind)\n",
    "\n",
    "        return np.array(neigh_ind)\n",
    "\n",
    "# 1. Tendo como base os pontos mais próximos separados pela função \"kneighbors\", realiza a previsão de classificação do ponto.\n",
    "# 2. O critério de classificação pode ser uniforme em que ocorre uma votação com pesos iguais ou \n",
    "# 'distance' que apresenta peso na votação conforme a distância do ponto aos mais próximos, quanto mais próximo maior o peso.\n",
    "    def predict(self, X_test):\n",
    "\n",
    "        if self.weights == 'uniform':\n",
    "            neighbors = self.kneighbors(X_test)\n",
    "            y_pred = np.array([\n",
    "                np.argmax(np.bincount(self.y_train[neighbor]))\n",
    "                for neighbor in neighbors\n",
    "            ])\n",
    "\n",
    "            return y_pred\n",
    "\n",
    "        if self.weights == 'distance':\n",
    "\n",
    "            dist, neigh_ind = self.kneighbors(X_test, return_distance=True)\n",
    "\n",
    "            inv_dist = 1 / dist\n",
    "\n",
    "            mean_inv_dist = inv_dist / np.sum(inv_dist, axis=1)[:, np.newaxis]\n",
    "\n",
    "            proba = []\n",
    "\n",
    "            for i, row in enumerate(mean_inv_dist):\n",
    "\n",
    "                row_pred = self.y_train[neigh_ind[i]]\n",
    "\n",
    "                for k in range(self.n_classes):\n",
    "                    indices = np.where(row_pred == k)\n",
    "                    prob_ind = np.sum(row[indices])\n",
    "                    proba.append(np.array(prob_ind))\n",
    "\n",
    "            predict_proba = np.array(proba).reshape(X_test.shape[0],\n",
    "                                                    self.n_classes)\n",
    "\n",
    "            y_pred = np.array([np.argmax(item) for item in predict_proba])\n",
    "\n",
    "            return y_pred\n",
    "\n",
    "# Calculo de acerto de classificação com base no modelo\n",
    "    def score(self, X_test, y_test):\n",
    "        y_pred = self.predict(X_test)\n",
    "\n",
    "        return float(sum(y_pred == y_test)) / float(len(y_test))"
   ]
  },
  {
   "cell_type": "markdown",
   "id": "1dd94e28",
   "metadata": {},
   "source": [
    "### Aplicação do modelo sem normalizar"
   ]
  },
  {
   "cell_type": "code",
   "execution_count": 12,
   "id": "fa5a5ab4",
   "metadata": {},
   "outputs": [],
   "source": [
    "# Divisão dos dados entre teste e treino para o modelo\n",
    "# Classificação da qualidade do vinho\n",
    "split_rate = 0.75\n",
    "np.random.shuffle(NP_data)\n",
    "train, test = np.split(NP_data, [int(split_rate*(NP_data.shape[0]))])\n",
    "\n",
    "X_train = np.delete(train, 11, 1)\n",
    "y_train = train[:, 11]\n",
    "\n",
    "X_test = np.delete(test, 11, 1)\n",
    "y_test = test[:, 11]\n",
    "\n",
    "y_train = y_train.astype(int)\n",
    "y_test = y_test.astype(int)"
   ]
  },
  {
   "cell_type": "code",
   "execution_count": 13,
   "id": "7c977b66",
   "metadata": {},
   "outputs": [
    {
     "name": "stdout",
     "output_type": "stream",
     "text": [
      "A porcentagem de acerto do modelo de classificação multiclasse KNN numpy da qualidade do vinho é de 49.47692307692308 %\n",
      "A porcentagem de acerto do modelo de classificação multiclasse KNN SkLearn da qualidade do vinho é de 49.47692307692308 %\n"
     ]
    }
   ],
   "source": [
    "# Aplicação do modelo de classificação multiclasse KNN da qualidade do vinho\n",
    "numpyKNN_quality = KNearestNeighbors(X_train, y_train, n_neighbors=5)\n",
    "skKNN_quality = KNeighborsClassifier(n_neighbors=5).fit(X_train, y_train)\n",
    "\n",
    "# Verificação de precisão do modelo\n",
    "numpy_KNN_score_quality = numpyKNN_quality.score(X_test, y_test) *100\n",
    "sk_KNN_score_quality = skKNN_quality = KNeighborsClassifier(n_neighbors=5).fit(X_train, y_train).score(X_test, y_test) *100\n",
    "\n",
    "print (f'A porcentagem de acerto do modelo de classificação multiclasse KNN numpy da qualidade do vinho é de {numpy_KNN_score_quality} %')\n",
    "print (f'A porcentagem de acerto do modelo de classificação multiclasse KNN SkLearn da qualidade do vinho é de {sk_KNN_score_quality} %')"
   ]
  },
  {
   "cell_type": "code",
   "execution_count": 14,
   "id": "af666f6c",
   "metadata": {},
   "outputs": [],
   "source": [
    "# Divisão dos dados entre teste e treino para o modelo\n",
    "# Classificação se o vinho é tinho ou não\n",
    "split_rate = 0.75\n",
    "np.random.shuffle(NP_data)\n",
    "train, test = np.split(NP_data, [int(split_rate*(NP_data.shape[0]))])\n",
    "\n",
    "X_train = train[:, 0:12]\n",
    "y_train = train[:, 12]\n",
    "\n",
    "X_test = train[:, 0:12]\n",
    "y_test = train[:, 12]\n",
    "\n",
    "y_train = y_train.astype(int)\n",
    "y_test = y_test.astype(int)"
   ]
  },
  {
   "cell_type": "code",
   "execution_count": 15,
   "id": "af630b92",
   "metadata": {},
   "outputs": [
    {
     "name": "stdout",
     "output_type": "stream",
     "text": [
      "A porcentagem de acerto do modelo de classificação binária KNN numpy se o vinho é tinto ou não é de 96.03858784893268 %\n",
      "A porcentagem de acerto do modelo de classificação binária KNN SkLearn se o vinho é tinto ou não é de 96.03858784893268 %\n"
     ]
    }
   ],
   "source": [
    "# Aplicação do modelo de classificação binária KNN se o vinho é tinto ou não\n",
    "numpyKNN_red = KNearestNeighbors(X_train, y_train, n_neighbors=5)\n",
    "skKNN_red = KNeighborsClassifier(n_neighbors=5).fit(X_train, y_train)\n",
    "\n",
    "numpy_KNN_score_red = numpyKNN_red.score(X_test, y_test) *100\n",
    "sk_KNN_score_red = skKNN_red.score(X_test, y_test) *100\n",
    "print (f'A porcentagem de acerto do modelo de classificação binária KNN numpy se o vinho é tinto ou não é de {numpy_KNN_score_red} %')\n",
    "print (f'A porcentagem de acerto do modelo de classificação binária KNN SkLearn se o vinho é tinto ou não é de {sk_KNN_score_red} %')"
   ]
  },
  {
   "cell_type": "markdown",
   "id": "1080a281",
   "metadata": {},
   "source": [
    "### Aplicação do modelo com os dados normalizados"
   ]
  },
  {
   "cell_type": "code",
   "execution_count": 16,
   "id": "a50abd15",
   "metadata": {},
   "outputs": [],
   "source": [
    "# Separando os dados de input\n",
    "Xq = np.delete(NP_data, 11, 1)\n",
    "yq = NP_data[:, 11]\n",
    "\n",
    "#Normalizando os dados\n",
    "mu = np.mean(Xq, 0)\n",
    "sigma = np.std(Xq, 0)\n",
    "Xq = (Xq - mu ) / sigma"
   ]
  },
  {
   "cell_type": "code",
   "execution_count": 17,
   "id": "56c1afae",
   "metadata": {},
   "outputs": [],
   "source": [
    "# Reagrupando X e y\n",
    "Norm_dataQ = np.hstack((Xq, yq[:, np.newaxis]))\n",
    "\n",
    "# Embaralhando o dataset\n",
    "np.random.shuffle(Norm_dataQ)\n",
    "\n",
    "#Determinando proporção de divisão do dataset\n",
    "split_rate = 0.75\n",
    "\n",
    "# Separando a base de dados entre teste e treino\n",
    "trainQ, testQ = np.split(Norm_dataQ, [int(split_rate*(Norm_dataQ.shape[0]))])\n",
    "\n",
    "# Separando os dados de supervisão e input\n",
    "X_trainQ = trainQ[:,:-1]\n",
    "y_trainQ = trainQ[:, -1]\n",
    "\n",
    "X_testQ = testQ[:,:-1]\n",
    "y_testQ = testQ[:, -1]\n",
    "\n",
    "y_trainQ = y_trainQ.astype(int)\n",
    "y_testQ = y_testQ.astype(int)"
   ]
  },
  {
   "cell_type": "code",
   "execution_count": 18,
   "id": "dd47e5a7",
   "metadata": {},
   "outputs": [
    {
     "name": "stdout",
     "output_type": "stream",
     "text": [
      "A porcentagem de acerto do modelo de classificação multiclasse KNN Numpy da qualidade do vinho é de 54.400000000000006 %, com dados normalizados\n"
     ]
    }
   ],
   "source": [
    "# Aplicação do modelo de classificação multiclasse KNN da qualidade do vinho, com dados normalizados.\n",
    "normKNN = KNearestNeighbors(X_trainQ, y_trainQ, n_neighbors=5)\n",
    "numpy_norm_KNN_score_quality = normKNN.score(X_testQ, y_testQ) *100\n",
    "print (f'A porcentagem de acerto do modelo de classificação multiclasse KNN Numpy da qualidade do vinho é de {numpy_norm_KNN_score_quality} %, com dados normalizados')"
   ]
  },
  {
   "cell_type": "code",
   "execution_count": 19,
   "id": "74db6aca",
   "metadata": {},
   "outputs": [],
   "source": [
    "# Separando os dados de input\n",
    "Xr = NP_data[:, 0:12]\n",
    "yr = NP_data[:, 12]\n",
    "\n",
    "#Normalizando os dados\n",
    "mu = np.mean(Xr, 0)\n",
    "sigma = np.std(Xr, 0)\n",
    "Xr = (Xr - mu ) / sigma"
   ]
  },
  {
   "cell_type": "code",
   "execution_count": 20,
   "id": "8f3ff52d",
   "metadata": {},
   "outputs": [],
   "source": [
    "# Reagrupando X e y\n",
    "Norm_dataR = np.hstack((Xr, yr[:, np.newaxis]))\n",
    "\n",
    "# Embaralhando o dataset\n",
    "np.random.shuffle(Norm_dataR)\n",
    "\n",
    "#Determinando proporção de divisão do dataset\n",
    "split_rate = 0.75\n",
    "\n",
    "# Separando a base de dados entre teste e treino\n",
    "trainR, testR = np.split(Norm_dataR, [int(split_rate*(Norm_dataR.shape[0]))])\n",
    "\n",
    "# Separando os dados de supervisão e input\n",
    "X_trainR = trainR[:,:-1]\n",
    "y_trainR = trainR[:, -1]\n",
    "\n",
    "X_testR = testR[:,:-1]\n",
    "y_testR = testR[:, -1]\n",
    "\n",
    "y_trainR = y_trainR.astype(int)\n",
    "y_testR = y_testR.astype(int)"
   ]
  },
  {
   "cell_type": "code",
   "execution_count": 21,
   "id": "e18da6b7",
   "metadata": {},
   "outputs": [
    {
     "name": "stdout",
     "output_type": "stream",
     "text": [
      "A porcentagem de acerto do modelo de classificação binária KNN se o vinho é tinto ou não é de 99.2 %, com dados normalizados.\n"
     ]
    }
   ],
   "source": [
    "# Aplicação do modelo de classificação binária KNN se o vinho é tinto ou não, com dados normalizados.\n",
    "numpyKNN = KNearestNeighbors(X_trainR, y_trainR, n_neighbors=5)\n",
    "numpy_norm_KNN_score_red = numpyKNN.score(X_testR, y_testR) *100\n",
    "print (f'A porcentagem de acerto do modelo de classificação binária KNN se o vinho é tinto ou não é de {numpy_norm_KNN_score_red} %, com dados normalizados.')"
   ]
  },
  {
   "cell_type": "markdown",
   "id": "58b7a1e1",
   "metadata": {},
   "source": [
    "### Resumo dos resultados de KNN"
   ]
  },
  {
   "cell_type": "code",
   "execution_count": 22,
   "id": "eb3813c2",
   "metadata": {},
   "outputs": [],
   "source": [
    "scores = [[numpy_KNN_score_quality, sk_KNN_score_quality],\n",
    "           [numpy_KNN_score_red, sk_KNN_score_red], [numpy_norm_KNN_score_quality, '-'], [numpy_norm_KNN_score_red, '-']]"
   ]
  },
  {
   "cell_type": "code",
   "execution_count": 23,
   "id": "ca7275ed",
   "metadata": {
    "scrolled": true
   },
   "outputs": [
    {
     "data": {
      "text/html": [
       "<div>\n",
       "<style scoped>\n",
       "    .dataframe tbody tr th:only-of-type {\n",
       "        vertical-align: middle;\n",
       "    }\n",
       "\n",
       "    .dataframe tbody tr th {\n",
       "        vertical-align: top;\n",
       "    }\n",
       "\n",
       "    .dataframe thead th {\n",
       "        text-align: right;\n",
       "    }\n",
       "</style>\n",
       "<table border=\"1\" class=\"dataframe\">\n",
       "  <thead>\n",
       "    <tr style=\"text-align: right;\">\n",
       "      <th></th>\n",
       "      <th>Numpy KNN accuracy</th>\n",
       "      <th>Sklearn KNN accuracy</th>\n",
       "    </tr>\n",
       "  </thead>\n",
       "  <tbody>\n",
       "    <tr>\n",
       "      <th>Quality not normalized</th>\n",
       "      <td>49.476923</td>\n",
       "      <td>49.476923</td>\n",
       "    </tr>\n",
       "    <tr>\n",
       "      <th>Red not normalized</th>\n",
       "      <td>96.038588</td>\n",
       "      <td>96.038588</td>\n",
       "    </tr>\n",
       "    <tr>\n",
       "      <th>Quality normalized</th>\n",
       "      <td>54.400000</td>\n",
       "      <td>-</td>\n",
       "    </tr>\n",
       "    <tr>\n",
       "      <th>Red normalized</th>\n",
       "      <td>99.200000</td>\n",
       "      <td>-</td>\n",
       "    </tr>\n",
       "  </tbody>\n",
       "</table>\n",
       "</div>"
      ],
      "text/plain": [
       "                        Numpy KNN accuracy Sklearn KNN accuracy\n",
       "Quality not normalized           49.476923            49.476923\n",
       "Red not normalized               96.038588            96.038588\n",
       "Quality normalized               54.400000                    -\n",
       "Red normalized                   99.200000                    -"
      ]
     },
     "execution_count": 23,
     "metadata": {},
     "output_type": "execute_result"
    }
   ],
   "source": [
    "scores_table = pd.DataFrame(scores, columns = ['Numpy KNN accuracy', 'Sklearn KNN accuracy'], \n",
    "                            index = ['Quality not normalized', 'Red not normalized','Quality normalized','Red normalized'])\n",
    "scores_table"
   ]
  },
  {
   "cell_type": "markdown",
   "id": "b41f3063",
   "metadata": {},
   "source": [
    "Podemos concluir que a acurácia do modelo KNN utilizando apenas numpy ou a biblioteca Scikit é a mesma"
   ]
  },
  {
   "cell_type": "markdown",
   "id": "d94fce1f",
   "metadata": {},
   "source": [
    "## Aplicação de Random Forest"
   ]
  },
  {
   "cell_type": "code",
   "execution_count": 24,
   "id": "a0bbe60c",
   "metadata": {},
   "outputs": [],
   "source": [
    "# Importação da bilbioteca\n",
    "from sklearn.ensemble import RandomForestRegressor\n",
    "\n",
    "#Definição de parâmetros - 1000 decision trees\n",
    "rf = RandomForestRegressor(n_estimators = 1000, random_state = 12)"
   ]
  },
  {
   "cell_type": "markdown",
   "id": "db6ce579",
   "metadata": {},
   "source": [
    "### Prevendo qualidade do vinho com Random Forest"
   ]
  },
  {
   "cell_type": "code",
   "execution_count": 25,
   "id": "92d166e8",
   "metadata": {},
   "outputs": [],
   "source": [
    "# Treinando o modelo utilizando os dados já normalizados anteriormente\n",
    "rf.fit(X_trainR, y_trainR)\n",
    "\n",
    "# Aplicando o modelo aos dados de teste\n",
    "rf_predict = rf.predict(X_testQ)"
   ]
  },
  {
   "cell_type": "code",
   "execution_count": 26,
   "id": "63271b10",
   "metadata": {
    "scrolled": true
   },
   "outputs": [
    {
     "name": "stdout",
     "output_type": "stream",
     "text": [
      "Erro médio absoluto: 5.59\n"
     ]
    }
   ],
   "source": [
    "# Calculo do erro absoluto\n",
    "errors = abs(rf_predict - y_testQ)\n",
    "\n",
    "print('Erro médio absoluto:', round(np.mean(errors), 2))"
   ]
  },
  {
   "cell_type": "markdown",
   "id": "00fa142b",
   "metadata": {},
   "source": [
    "Com n_estimators = 10.000, erro médio de 5.57"
   ]
  },
  {
   "cell_type": "code",
   "execution_count": 27,
   "id": "f99c788d",
   "metadata": {},
   "outputs": [
    {
     "data": {
      "text/plain": [
       "5.818377712790519"
      ]
     },
     "execution_count": 27,
     "metadata": {},
     "output_type": "execute_result"
    }
   ],
   "source": [
    "# Média de quality\n",
    "dataset_original['quality'].mean()"
   ]
  },
  {
   "cell_type": "code",
   "execution_count": 28,
   "id": "3b1d23c0",
   "metadata": {},
   "outputs": [
    {
     "name": "stdout",
     "output_type": "stream",
     "text": [
      "Faixa de erro máxima com moda 5.75\n",
      "Faixa de erro máxima com média 5.57\n"
     ]
    }
   ],
   "source": [
    "# Faixa de erro máxima levando em consideração a moda\n",
    "baseline_moda = abs(6 - y_trainR)\n",
    "\n",
    "# Faixa de erro máxima levando em consideração a média de valores\n",
    "baseline_media = abs(dataset_original['quality'].mean() - y_trainR)\n",
    "\n",
    "print('Faixa de erro máxima com moda', round(np.mean(baseline_moda), 2))\n",
    "print('Faixa de erro máxima com média', round(np.mean(baseline_media), 2))"
   ]
  },
  {
   "cell_type": "markdown",
   "id": "b15b57e4",
   "metadata": {},
   "source": [
    "Ao observar os resultados acima, quase não há diferença entre \"chutar\" a média ou a moda para todos os resultados e aplicar um modelo de Random Forest para o problema em questão."
   ]
  },
  {
   "cell_type": "markdown",
   "id": "12c85b9b",
   "metadata": {},
   "source": [
    "## Undersampling"
   ]
  },
  {
   "cell_type": "markdown",
   "id": "adcffe63",
   "metadata": {},
   "source": [
    " Método que diminui a quantidade de observações com maior número de classificação, afim de equalizar."
   ]
  },
  {
   "cell_type": "code",
   "execution_count": 29,
   "id": "d47f420b",
   "metadata": {},
   "outputs": [],
   "source": [
    "df = pd.DataFrame(Norm_dataR, columns = dataset_original.columns)"
   ]
  },
  {
   "cell_type": "code",
   "execution_count": 30,
   "id": "9f92ef91",
   "metadata": {},
   "outputs": [
    {
     "data": {
      "text/plain": [
       "wine_is_red\n",
       "0    4898\n",
       "1    1599\n",
       "Name: wine_is_red, dtype: int64"
      ]
     },
     "execution_count": 30,
     "metadata": {},
     "output_type": "execute_result"
    }
   ],
   "source": [
    "dataset_original.groupby(['wine_is_red'])['wine_is_red'].count()"
   ]
  },
  {
   "cell_type": "code",
   "execution_count": 31,
   "id": "57ceb4a9",
   "metadata": {},
   "outputs": [
    {
     "data": {
      "text/plain": [
       "<Axes: xlabel='wine_is_red'>"
      ]
     },
     "execution_count": 31,
     "metadata": {},
     "output_type": "execute_result"
    },
    {
     "data": {
      "image/png": "[encoded data removed]",
      "text/plain": [
       "<Figure size 640x480 with 1 Axes>"
      ]
     },
     "metadata": {},
     "output_type": "display_data"
    }
   ],
   "source": [
    "# Verificação da quantia [wine_is_red] do dataset \n",
    "dataset_original.groupby(['wine_is_red'])['wine_is_red'].count().plot(kind = 'bar')"
   ]
  },
  {
   "cell_type": "code",
   "execution_count": 32,
   "id": "518cdb49",
   "metadata": {},
   "outputs": [
    {
     "name": "stdout",
     "output_type": "stream",
     "text": [
      "Random under-sampling:\n",
      "0.0    1599\n",
      "1.0    1599\n",
      "Name: wine_is_red, dtype: int64\n"
     ]
    },
    {
     "data": {
      "image/png": "[encoded data removed]",
      "text/plain": [
       "<Figure size 640x480 with 1 Axes>"
      ]
     },
     "metadata": {},
     "output_type": "display_data"
    }
   ],
   "source": [
    "# Contar as classes\n",
    "count_class_0, count_class_1 = df['wine_is_red'].value_counts()\n",
    "\n",
    "# Divide by class\n",
    "df_class_0 = df[df['wine_is_red'] == 0]\n",
    "df_class_1 = df[df['wine_is_red'] == 1]\n",
    "\n",
    "df_class_0_under = df_class_0.sample(count_class_1)\n",
    "df_test_under = pd.concat([df_class_0_under, df_class_1], axis=0)\n",
    "\n",
    "print('Random under-sampling:')\n",
    "print(df_test_under['wine_is_red'].value_counts())\n",
    "df_test_under['wine_is_red'].value_counts().plot(kind='bar', title='Count (Undersampled)',color = ['#1F77B4', '#FF7F0E']);"
   ]
  },
  {
   "cell_type": "code",
   "execution_count": 33,
   "id": "bf6c48c3",
   "metadata": {},
   "outputs": [],
   "source": [
    "np_test_under = df_test_under.to_numpy()"
   ]
  },
  {
   "cell_type": "code",
   "execution_count": 34,
   "id": "4a5afdc6",
   "metadata": {},
   "outputs": [],
   "source": [
    "# Embaralhando o dataset\n",
    "np.random.shuffle(np_test_under)\n",
    "\n",
    "#Determinando proporção de divisão do dataset\n",
    "split_rate = 0.75\n",
    "\n",
    "# Separando a base de dados entre teste e treino\n",
    "trainU, testU = np.split(np_test_under, [int(split_rate*(np_test_under.shape[0]))])\n",
    "\n",
    "# Separando os dados de supervisão e input\n",
    "X_trainU = trainU[:,:-1]\n",
    "y_trainU = trainU[:, -1]\n",
    "\n",
    "X_testU = testU[:,:-1]\n",
    "y_testU = testU[:, -1]\n",
    "\n",
    "y_trainU = y_trainU.astype(int)\n",
    "y_testU = y_testU.astype(int)"
   ]
  },
  {
   "cell_type": "code",
   "execution_count": 35,
   "id": "01cd2d23",
   "metadata": {
    "scrolled": true
   },
   "outputs": [
    {
     "name": "stdout",
     "output_type": "stream",
     "text": [
      "A porcentagem de acerto do modelo de classificação binária KNN se o vinho é tinto ou não é de 99.625 %, com dados normalizados e aplicando undersampling.\n"
     ]
    }
   ],
   "source": [
    "# Aplicação do modelo de classificação binária KNN se o vinho é tinto ou não, com dados normalizados e aplicando undersampling\n",
    "underKNN = KNearestNeighbors(X_trainU, y_trainU, n_neighbors=5)\n",
    "under_norm_KNN_score_red = underKNN.score(X_testU, y_testU) *100\n",
    "print (f'A porcentagem de acerto do modelo de classificação binária KNN se o vinho é tinto ou não é de {under_norm_KNN_score_red} %, com dados normalizados e aplicando undersampling.')"
   ]
  },
  {
   "cell_type": "markdown",
   "id": "fb684f11",
   "metadata": {},
   "source": [
    "## Oversampling"
   ]
  },
  {
   "cell_type": "code",
   "execution_count": 36,
   "id": "21a8df28",
   "metadata": {},
   "outputs": [],
   "source": [
    "# Importação de bibliotecas que serão utilizadas\n",
    "from imblearn.over_sampling import RandomOverSampler"
   ]
  },
  {
   "cell_type": "code",
   "execution_count": 37,
   "id": "27c3b139",
   "metadata": {},
   "outputs": [],
   "source": [
    "# Separação entre dados de input e supervisão\n",
    "X_over = df.drop('wine_is_red', axis = 1)\n",
    "y_over = df['wine_is_red']"
   ]
  },
  {
   "cell_type": "code",
   "execution_count": 38,
   "id": "74abd871",
   "metadata": {},
   "outputs": [
    {
     "name": "stdout",
     "output_type": "stream",
     "text": [
      "[(0.0, 4898), (1.0, 4898)]\n"
     ]
    }
   ],
   "source": [
    "ros = RandomOverSampler(random_state=0)\n",
    "X_resampled, y_resampled = ros.fit_resample(X_over, y_over)\n",
    "\n",
    "from collections import Counter\n",
    "print(sorted(Counter(y_resampled).items()))"
   ]
  },
  {
   "cell_type": "code",
   "execution_count": 44,
   "id": "02f2fb93",
   "metadata": {},
   "outputs": [
    {
     "data": {
      "image/png": "[encoded data removed]",
      "text/plain": [
       "<Figure size 640x480 with 1 Axes>"
      ]
     },
     "metadata": {},
     "output_type": "display_data"
    }
   ],
   "source": [
    "y_resampled.value_counts().plot(kind='bar', title='Count (Overmsampled)',color = ['#1F77B4', '#FF7F0E']);"
   ]
  },
  {
   "cell_type": "code",
   "execution_count": 39,
   "id": "9a3e7c6b",
   "metadata": {},
   "outputs": [],
   "source": [
    "# Separando a base de dados entre teste e treino\n",
    "X_trainO, X_testO, y_trainO, y_testO = train_test_split(X_resampled, y_resampled, test_size=0.25)"
   ]
  },
  {
   "cell_type": "code",
   "execution_count": 40,
   "id": "dcb04208",
   "metadata": {},
   "outputs": [
    {
     "data": {
      "text/html": [
       "<style>#sk-container-id-1 {color: black;background-color: white;}#sk-container-id-1 pre{padding: 0;}#sk-container-id-1 div.sk-toggleable {background-color: white;}#sk-container-id-1 label.sk-toggleable__label {cursor: pointer;display: block;width: 100%;margin-bottom: 0;padding: 0.3em;box-sizing: border-box;text-align: center;}#sk-container-id-1 label.sk-toggleable__label-arrow:before {content: \"▸\";float: left;margin-right: 0.25em;color: #696969;}#sk-container-id-1 label.sk-toggleable__label-arrow:hover:before {color: black;}#sk-container-id-1 div.sk-estimator:hover label.sk-toggleable__label-arrow:before {color: black;}#sk-container-id-1 div.sk-toggleable__content {max-height: 0;max-width: 0;overflow: hidden;text-align: left;background-color: #f0f8ff;}#sk-container-id-1 div.sk-toggleable__content pre {margin: 0.2em;color: black;border-radius: 0.25em;background-color: #f0f8ff;}#sk-container-id-1 input.sk-toggleable__control:checked~div.sk-toggleable__content {max-height: 200px;max-width: 100%;overflow: auto;}#sk-container-id-1 input.sk-toggleable__control:checked~label.sk-toggleable__label-arrow:before {content: \"▾\";}#sk-container-id-1 div.sk-estimator input.sk-toggleable__control:checked~label.sk-toggleable__label {background-color: #d4ebff;}#sk-container-id-1 div.sk-label input.sk-toggleable__control:checked~label.sk-toggleable__label {background-color: #d4ebff;}#sk-container-id-1 input.sk-hidden--visually {border: 0;clip: rect(1px 1px 1px 1px);clip: rect(1px, 1px, 1px, 1px);height: 1px;margin: -1px;overflow: hidden;padding: 0;position: absolute;width: 1px;}#sk-container-id-1 div.sk-estimator {font-family: monospace;background-color: #f0f8ff;border: 1px dotted black;border-radius: 0.25em;box-sizing: border-box;margin-bottom: 0.5em;}#sk-container-id-1 div.sk-estimator:hover {background-color: #d4ebff;}#sk-container-id-1 div.sk-parallel-item::after {content: \"\";width: 100%;border-bottom: 1px solid gray;flex-grow: 1;}#sk-container-id-1 div.sk-label:hover label.sk-toggleable__label {background-color: #d4ebff;}#sk-container-id-1 div.sk-serial::before {content: \"\";position: absolute;border-left: 1px solid gray;box-sizing: border-box;top: 0;bottom: 0;left: 50%;z-index: 0;}#sk-container-id-1 div.sk-serial {display: flex;flex-direction: column;align-items: center;background-color: white;padding-right: 0.2em;padding-left: 0.2em;position: relative;}#sk-container-id-1 div.sk-item {position: relative;z-index: 1;}#sk-container-id-1 div.sk-parallel {display: flex;align-items: stretch;justify-content: center;background-color: white;position: relative;}#sk-container-id-1 div.sk-item::before, #sk-container-id-1 div.sk-parallel-item::before {content: \"\";position: absolute;border-left: 1px solid gray;box-sizing: border-box;top: 0;bottom: 0;left: 50%;z-index: -1;}#sk-container-id-1 div.sk-parallel-item {display: flex;flex-direction: column;z-index: 1;position: relative;background-color: white;}#sk-container-id-1 div.sk-parallel-item:first-child::after {align-self: flex-end;width: 50%;}#sk-container-id-1 div.sk-parallel-item:last-child::after {align-self: flex-start;width: 50%;}#sk-container-id-1 div.sk-parallel-item:only-child::after {width: 0;}#sk-container-id-1 div.sk-dashed-wrapped {border: 1px dashed gray;margin: 0 0.4em 0.5em 0.4em;box-sizing: border-box;padding-bottom: 0.4em;background-color: white;}#sk-container-id-1 div.sk-label label {font-family: monospace;font-weight: bold;display: inline-block;line-height: 1.2em;}#sk-container-id-1 div.sk-label-container {text-align: center;}#sk-container-id-1 div.sk-container {/* jupyter's `normalize.less` sets `[hidden] { display: none; }` but bootstrap.min.css set `[hidden] { display: none !important; }` so we also need the `!important` here to be able to override the default hidden behavior on the sphinx rendered scikit-learn.org. See: https://github.com/scikit-learn/scikit-learn/issues/21755 */display: inline-block !important;position: relative;}#sk-container-id-1 div.sk-text-repr-fallback {display: none;}</style><div id=\"sk-container-id-1\" class=\"sk-top-container\"><div class=\"sk-text-repr-fallback\"><pre>KNeighborsClassifier()</pre><b>In a Jupyter environment, please rerun this cell to show the HTML representation or trust the notebook. <br />On GitHub, the HTML representation is unable to render, please try loading this page with nbviewer.org.</b></div><div class=\"sk-container\" hidden><div class=\"sk-item\"><div class=\"sk-estimator sk-toggleable\"><input class=\"sk-toggleable__control sk-hidden--visually\" id=\"sk-estimator-id-1\" type=\"checkbox\" checked><label for=\"sk-estimator-id-1\" class=\"sk-toggleable__label sk-toggleable__label-arrow\">KNeighborsClassifier</label><div class=\"sk-toggleable__content\"><pre>KNeighborsClassifier()</pre></div></div></div></div></div>"
      ],
      "text/plain": [
       "KNeighborsClassifier()"
      ]
     },
     "execution_count": 40,
     "metadata": {},
     "output_type": "execute_result"
    }
   ],
   "source": [
    "# Treino do modelo de KNN\n",
    "knn = KNeighborsClassifier(n_neighbors=5)\n",
    "knn.fit(X_trainO, y_trainO)"
   ]
  },
  {
   "cell_type": "code",
   "execution_count": 41,
   "id": "ac3e9726",
   "metadata": {},
   "outputs": [
    {
     "name": "stdout",
     "output_type": "stream",
     "text": [
      "A porcentagem de acerto do modelo de classificação binária KNN se o vinho é tinto ou não é de 99.02000816659861 %, com dados normalizados e aplicando oversampling.\n"
     ]
    }
   ],
   "source": [
    "# Verificando acurácia do modelo de classificação binária KNN se o vinho é tinto ou não, com dados normalizados e aplicando undersampling\n",
    "y_pred = knn.predict(X_testO)\n",
    "over_norm_KNN_score_red = accuracy_score(y_testO, y_pred) * 100\n",
    "print (f'A porcentagem de acerto do modelo de classificação binária KNN se o vinho é tinto ou não é de {over_norm_KNN_score_red} %, com dados normalizados e aplicando oversampling.')"
   ]
  },
  {
   "cell_type": "markdown",
   "id": "b0d52f4f",
   "metadata": {},
   "source": [
    "## Resumo"
   ]
  },
  {
   "cell_type": "code",
   "execution_count": 42,
   "id": "14e08caa",
   "metadata": {},
   "outputs": [],
   "source": [
    "resumo = [[numpy_KNN_score_quality],\n",
    "          [numpy_norm_KNN_score_quality],\n",
    "          [numpy_KNN_score_red],\n",
    "          [numpy_norm_KNN_score_red], [under_norm_KNN_score_red], [over_norm_KNN_score_red ]]"
   ]
  },
  {
   "cell_type": "code",
   "execution_count": 43,
   "id": "d810fbee",
   "metadata": {},
   "outputs": [
    {
     "data": {
      "text/html": [
       "<div>\n",
       "<style scoped>\n",
       "    .dataframe tbody tr th:only-of-type {\n",
       "        vertical-align: middle;\n",
       "    }\n",
       "\n",
       "    .dataframe tbody tr th {\n",
       "        vertical-align: top;\n",
       "    }\n",
       "\n",
       "    .dataframe thead th {\n",
       "        text-align: right;\n",
       "    }\n",
       "</style>\n",
       "<table border=\"1\" class=\"dataframe\">\n",
       "  <thead>\n",
       "    <tr style=\"text-align: right;\">\n",
       "      <th></th>\n",
       "      <th>KNN accuracy</th>\n",
       "    </tr>\n",
       "  </thead>\n",
       "  <tbody>\n",
       "    <tr>\n",
       "      <th>Quality not normalized</th>\n",
       "      <td>49.476923</td>\n",
       "    </tr>\n",
       "    <tr>\n",
       "      <th>Quality normalized</th>\n",
       "      <td>54.400000</td>\n",
       "    </tr>\n",
       "    <tr>\n",
       "      <th>Red not normalized</th>\n",
       "      <td>96.038588</td>\n",
       "    </tr>\n",
       "    <tr>\n",
       "      <th>Red normalized</th>\n",
       "      <td>99.200000</td>\n",
       "    </tr>\n",
       "    <tr>\n",
       "      <th>Red norm &amp; undersampling</th>\n",
       "      <td>99.625000</td>\n",
       "    </tr>\n",
       "    <tr>\n",
       "      <th>Red norm &amp; oversampling</th>\n",
       "      <td>99.020008</td>\n",
       "    </tr>\n",
       "  </tbody>\n",
       "</table>\n",
       "</div>"
      ],
      "text/plain": [
       "                          KNN accuracy\n",
       "Quality not normalized       49.476923\n",
       "Quality normalized           54.400000\n",
       "Red not normalized           96.038588\n",
       "Red normalized               99.200000\n",
       "Red norm & undersampling     99.625000\n",
       "Red norm & oversampling      99.020008"
      ]
     },
     "execution_count": 43,
     "metadata": {},
     "output_type": "execute_result"
    }
   ],
   "source": [
    "resumo_table = pd.DataFrame(resumo, columns = ['KNN accuracy'], \n",
    "                            index = ['Quality not normalized', 'Quality normalized', 'Red not normalized','Red normalized',\n",
    "                                    'Red norm & undersampling', 'Red norm & oversampling'])\n",
    "resumo_table"
   ]
  },
  {
   "cell_type": "markdown",
   "id": "ac22a0bb",
   "metadata": {},
   "source": [
    "O modelo com maior acurácia para verificação se o vinho é tinto ou não foi normalizando e aplicando oversampling, enquanto para prever a qualidade do vinho normalizar o dataset aumentou a taxa de acurácia."
   ]
  },
  {
   "cell_type": "markdown",
   "id": "60bb309d",
   "metadata": {},
   "source": [
    "Já para o modelo de Random Forest aplicado a previsão da qualidade do vinho:\n",
    "\n",
    "Faixa de erro máxima \"chutando\" os resultados com a moda: 5.75\n",
    "Faixa de erro máxima \"chutando\" os resultados com a média: 5.57\n",
    "Faixa de erro máxima por meio do modelo de Random Forest: 5.57 \n",
    "\n",
    "Portant, não há diferença entre \"chutar\" a média para todos os resultados e aplicar um modelo de Random Forest para o problema em questão."
   ]
  }
 ],
 "metadata": {
  "kernelspec": {
   "display_name": "Python 3 (ipykernel)",
   "language": "python",
   "name": "python3"
  },
  "language_info": {
   "codemirror_mode": {
    "name": "ipython",
    "version": 3
   },
   "file_extension": ".py",
   "mimetype": "text/x-python",
   "name": "python",
   "nbconvert_exporter": "python",
   "pygments_lexer": "ipython3",
   "version": "3.10.9"
  }
 },
 "nbformat": 4,
 "nbformat_minor": 5
}
